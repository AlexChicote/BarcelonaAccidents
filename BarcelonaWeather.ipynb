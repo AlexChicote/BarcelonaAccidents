{
 "cells": [
  {
   "cell_type": "code",
   "execution_count": 1,
   "metadata": {},
   "outputs": [],
   "source": [
    "import requests\n",
    "import pandas as pd\n",
    "import datetime\n",
    "from barcelona_keys import key as weather_key\n",
    "\n",
    "\n",
    "def getting_daily_weather(year,month,day,variables_selected,codiEstacio='D5'):\n",
    "    \n",
    "    url=f'https://api.meteo.cat/xema/v1/estacions/mesurades/{codiEstacio}/{year}/{month}/{day}'\n",
    "    response = requests.get(url, headers={\"Content-Type\": \"application/json\", \"X-Api-Key\": weather_key}).json()\n",
    "    list_variables_codes=[variable['code'] for variable in variables_selected]\n",
    "    list_variables_names=[variable['name'] for variable in variables_selected]\n",
    "    df=pd.DataFrame()\n",
    "    for variable in response[0]['variables']:\n",
    "        if variable['codi'] in list_variables_codes:\n",
    "            #print(variable)\n",
    "            data=pd.DataFrame.from_records(variable['lectures'])[['data','valor']]\n",
    "            data.rename(columns={'valor':list_variables_names[list_variables_codes.index(variable['codi'])]},inplace=True)\n",
    "\n",
    "            if df.empty:\n",
    "                df=data.copy()\n",
    "            else:\n",
    "                df=df.merge(data, on='data')\n",
    "        \n",
    "    return df\n",
    "\n",
    "\n",
    "def getting_yearly_weather(year):\n",
    "    start_date = datetime.date(year, 1, 1)\n",
    "    end_date = datetime.date(year, 12, 31)\n",
    " \n",
    "    # delta time\n",
    "    delta = datetime.timedelta(days=1)\n",
    "    yearly_weather=pd.DataFrame()\n",
    "    while (start_date <= end_date):\n",
    "        #print(start_date, end=\"\\n\")\n",
    "        daily_weather=getting_daily_weather(year,'{:02d}'.format(start_date.month),'{:02d}'.format(start_date.day),variables_selected,codiEstacio='D5')\n",
    "        yearly_weather=pd.concat([yearly_weather,daily_weather])\n",
    "\n",
    "        start_date += delta\n",
    "    yearly_weather.to_csv('./data/weatherbarcelona'+str(year)+'.csv',index=False)\n",
    "    print(\"DONE\",year)\n",
    "    #return yearly_weather.reset_index(inplace=True)\n",
    "    \n",
    "    \n",
    "##Figuring out estacions\n",
    "\n",
    "url='https://api.meteo.cat/xema/v1/estacions/metadades?estat=ope&data=2023-06-01Z'\n",
    "response = requests.get(url, headers={\"Content-Type\": \"application/json\", \"X-Api-Key\": weather_key})\n",
    "estacions=response.json()\n",
    "#estacions from Barcelona\n",
    "estacions_barcelona=[{'code': estacio['codi'],'name':estacio['nom']} for estacio in estacions if estacio['municipi']['nom']=='Barcelona']\n",
    "\n",
    "#figuring out variables\n",
    "url='https://api.meteo.cat/xema/v1/variables/mesurades/metadades'\n",
    "variables = requests.get(url, headers={\"Content-Type\": \"application/json\", \"X-Api-Key\": weather_key}).json()\n",
    "selected_variables=[26,30,32,33,34,35,36,38]#selection done by going over all variables\n",
    "variables_selected=[{'code':variable['codi'],'name':variable['nom'],'units':variable['unitat']} for variable in variables if variable['codi'] in selected_variables]\n",
    "\n",
    "\n",
    "#single year\n",
    "ANY=input(\"What year do you want? \")\n",
    "getting_yearly_weather(str(ANY))\n",
    "#doing each year for the fist time\n",
    "first_year=2011\n",
    "last_year=2022\n",
    "for year in range(first_year,last_year+1):\n",
    "    getting_yearly_weather(year)"
   ]
  },
  {
   "cell_type": "code",
   "execution_count": 11,
   "metadata": {},
   "outputs": [
    {
     "data": {
      "text/plain": [
       "[]"
      ]
     },
     "execution_count": 11,
     "metadata": {},
     "output_type": "execute_result"
    }
   ],
   "source": [
    "#doing each year for the fist time\n",
    "first_year=2011\n",
    "last_year=2022\n",
    "for year in range(first_year,last_year+1):\n",
    "    getting_yearly_weather(year)"
   ]
  },
  {
   "cell_type": "code",
   "execution_count": 72,
   "metadata": {},
   "outputs": [],
   "source": [
    "#Possible stations: D5,X2,X4,X8"
   ]
  },
  {
   "cell_type": "code",
   "execution_count": 127,
   "metadata": {
    "tags": []
   },
   "outputs": [
    {
     "data": {
      "text/plain": [
       "200"
      ]
     },
     "execution_count": 127,
     "metadata": {},
     "output_type": "execute_result"
    }
   ],
   "source": [
    "##Doing it by hand first time\n",
    "query=\"SELECT  data_lectura,codi_variable, valor_lectura \\\n",
    "where codi_estacio='D5' and codi_variable in ('30','32','33','34','35','36') \\\n",
    "and data_lectura >= '2010-01-01' and data_lectura <'2023-01-01' and codi_base='SH'\"\n",
    "url=f'https://analisi.transparenciacatalunya.cat/resource/nzvn-apee.json?$query={query}'\n",
    "response=requests.get(url)\n",
    "exemple=response.json()#doing each year for the fist time\n",
    "##pending some paging--I can only get 1000 per shot"
   ]
  },
  {
   "cell_type": "code",
   "execution_count": 96,
   "metadata": {},
   "outputs": [
    {
     "data": {
      "text/html": [
       "<div>\n",
       "<style scoped>\n",
       "    .dataframe tbody tr th:only-of-type {\n",
       "        vertical-align: middle;\n",
       "    }\n",
       "\n",
       "    .dataframe tbody tr th {\n",
       "        vertical-align: top;\n",
       "    }\n",
       "\n",
       "    .dataframe thead th {\n",
       "        text-align: right;\n",
       "    }\n",
       "</style>\n",
       "<table border=\"1\" class=\"dataframe\">\n",
       "  <thead>\n",
       "    <tr style=\"text-align: right;\">\n",
       "      <th></th>\n",
       "      <th>solar_irridation</th>\n",
       "      <th>temp</th>\n",
       "      <th>precipitation</th>\n",
       "      <th>pressure</th>\n",
       "      <th>windspeed10m</th>\n",
       "      <th>humidity</th>\n",
       "    </tr>\n",
       "  </thead>\n",
       "  <tbody>\n",
       "    <tr>\n",
       "      <th>2022-12-31 21:30:00</th>\n",
       "      <td>0.0</td>\n",
       "      <td>13.6</td>\n",
       "      <td>0.0</td>\n",
       "      <td>975.2</td>\n",
       "      <td>3.9</td>\n",
       "      <td>72.0</td>\n",
       "    </tr>\n",
       "    <tr>\n",
       "      <th>2022-12-31 22:00:00</th>\n",
       "      <td>0.0</td>\n",
       "      <td>13.6</td>\n",
       "      <td>0.0</td>\n",
       "      <td>975.2</td>\n",
       "      <td>3.9</td>\n",
       "      <td>72.0</td>\n",
       "    </tr>\n",
       "    <tr>\n",
       "      <th>2022-12-31 22:30:00</th>\n",
       "      <td>0.0</td>\n",
       "      <td>13.6</td>\n",
       "      <td>0.0</td>\n",
       "      <td>975.2</td>\n",
       "      <td>3.9</td>\n",
       "      <td>72.0</td>\n",
       "    </tr>\n",
       "    <tr>\n",
       "      <th>2022-12-31 23:00:00</th>\n",
       "      <td>0.0</td>\n",
       "      <td>13.6</td>\n",
       "      <td>0.0</td>\n",
       "      <td>975.2</td>\n",
       "      <td>3.9</td>\n",
       "      <td>72.0</td>\n",
       "    </tr>\n",
       "    <tr>\n",
       "      <th>2022-12-31 23:30:00</th>\n",
       "      <td>0.0</td>\n",
       "      <td>13.6</td>\n",
       "      <td>0.0</td>\n",
       "      <td>975.2</td>\n",
       "      <td>3.9</td>\n",
       "      <td>72.0</td>\n",
       "    </tr>\n",
       "  </tbody>\n",
       "</table>\n",
       "</div>"
      ],
      "text/plain": [
       "                     solar_irridation  temp  precipitation  pressure  \\\n",
       "2022-12-31 21:30:00               0.0  13.6            0.0     975.2   \n",
       "2022-12-31 22:00:00               0.0  13.6            0.0     975.2   \n",
       "2022-12-31 22:30:00               0.0  13.6            0.0     975.2   \n",
       "2022-12-31 23:00:00               0.0  13.6            0.0     975.2   \n",
       "2022-12-31 23:30:00               0.0  13.6            0.0     975.2   \n",
       "\n",
       "                     windspeed10m  humidity  \n",
       "2022-12-31 21:30:00           3.9      72.0  \n",
       "2022-12-31 22:00:00           3.9      72.0  \n",
       "2022-12-31 22:30:00           3.9      72.0  \n",
       "2022-12-31 23:00:00           3.9      72.0  \n",
       "2022-12-31 23:30:00           3.9      72.0  "
      ]
     },
     "execution_count": 96,
     "metadata": {},
     "output_type": "execute_result"
    }
   ],
   "source": [
    "##Downloading it directly from open data gencat \n",
    "import requests\n",
    "import pandas as pd\n",
    "import datetime\n",
    "from barcelona_keys import key as weather_key\n",
    "\n",
    "##Prepping final weather file\n",
    "\n",
    "weather=pd.read_csv('/Users/fcbnyc/Downloads/weatherBarcelona2010_2022.csv')\n",
    "selected_columns=['DATA_LECTURA','CODI_VARIABLE','VALOR_LECTURA']\n",
    "final_weather=weather[selected_columns].copy()\n",
    "final_weather.columns=['date','variable','value']\n",
    "final_weather['date']=pd.to_datetime(final_weather.date)\n",
    "final_weather.sort_values('date',inplace=True)\n",
    "\n",
    "##Prepping datetime df\n",
    "\n",
    "hourly_range=pd.date_range(start='2010-01-01',end='2023-01-1',freq='H')\n",
    "df_hourly=pd.DataFrame(index=hourly_range)\n",
    "\n",
    "halfhourly_range=hourly_range+pd.Timedelta('30min')\n",
    "\n",
    "df_halfhourly=pd.DataFrame(index=halfhourly_range[:-1])\n",
    "\n",
    "df_datetime=pd.concat([df_hourly,df_halfhourly]).sort_index()[:-1]\n",
    "df=df_datetime.copy()\n",
    "variable_dict={'30':'windspeed10m','32':'temp','33': 'humidity',\\\n",
    "                '34':'pressure','35':'precipitation','36': 'solar_irridation'}\n",
    "\n",
    "for variable in final_weather.variable.unique():\n",
    "    new_df=final_weather[final_weather.variable==variable][['date','value']].set_index('date')\n",
    "    new_df.rename(columns={'value':variable_dict[str(variable)]},inplace=True)\n",
    "    df=pd.merge(df,new_df,how='left',left_index=True,right_index=True)\n",
    "    #print(df.shape)\n",
    "df.interpolate(inplace=True)\n",
    "df.to_csv('../data/weatherBCN2010_2022.csv',index=False)\n",
    "df.tail()"
   ]
  },
  {
   "cell_type": "code",
   "execution_count": null,
   "metadata": {},
   "outputs": [],
   "source": []
  }
 ],
 "metadata": {
  "kernelspec": {
   "display_name": "Python 3 (ipykernel)",
   "language": "python",
   "name": "python3"
  },
  "language_info": {
   "codemirror_mode": {
    "name": "ipython",
    "version": 3
   },
   "file_extension": ".py",
   "mimetype": "text/x-python",
   "name": "python",
   "nbconvert_exporter": "python",
   "pygments_lexer": "ipython3",
   "version": "3.7.8"
  }
 },
 "nbformat": 4,
 "nbformat_minor": 4
}
